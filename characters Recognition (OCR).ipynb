{
 "cells": [
  {
   "cell_type": "markdown",
   "id": "754b3409",
   "metadata": {},
   "source": [
    "# import cv2 and pytessaract\n",
    "you must install pytesseract first on your device "
   ]
  },
  {
   "cell_type": "code",
   "execution_count": null,
   "id": "b32ee4d7",
   "metadata": {},
   "outputs": [],
   "source": [
    "import cv2\n",
    "import pytesseract"
   ]
  },
  {
   "cell_type": "markdown",
   "id": "69dcd22d",
   "metadata": {},
   "source": [
    "# import tesseract_cmd from your device."
   ]
  },
  {
   "cell_type": "code",
   "execution_count": null,
   "id": "2c579f28",
   "metadata": {},
   "outputs": [],
   "source": [
    "pytesseract.pytesseract.tesseract_cmd = 'C:\\\\Program Files\\\\Tesseract-OCR\\\\tesseract.exe'\n",
    "img=cv2.imread(\"f2.PNG\")\n",
    "img=cv2.cvtColor(img,cv2.COLOR_BGR2RGB)\n",
    "cong=r'--oem 3 --psm 6 outputbase digits'"
   ]
  },
  {
   "cell_type": "code",
   "execution_count": null,
   "id": "68333db2",
   "metadata": {},
   "outputs": [],
   "source": [
    "img,wimg,_=img.shape\n",
    "boxes=pytesseract.image_to_data(img,config=cong)"
   ]
  },
  {
   "cell_type": "markdown",
   "id": "3cb2dc61",
   "metadata": {},
   "source": [
    "# drawing the bounding box around each character"
   ]
  },
  {
   "cell_type": "code",
   "execution_count": null,
   "id": "d114c684",
   "metadata": {},
   "outputs": [],
   "source": [
    "for x,bx in enumerate(boxes.splitlines()):\n",
    "    if x!=0:\n",
    "        bx=bx.split()\n",
    "        if len(bx)==12:\n",
    "            x,y,w,h=int(bx[6]),int(bx[7]),int(bx[8]),int(bx[9])\n",
    "            cv2.rectangle(img,(x,y),(w+x,h+y),(0,255,0),2)\n",
    "            cv2.putText(img,bx[11],(x,y-10),cv2.FONT_HERSHEY_COMPLEX,0.4,color=(0,0,255),thickness=1)"
   ]
  },
  {
   "cell_type": "markdown",
   "id": "7de6efa9",
   "metadata": {},
   "source": [
    "# Show the result"
   ]
  },
  {
   "cell_type": "code",
   "execution_count": null,
   "id": "effd0047",
   "metadata": {},
   "outputs": [],
   "source": [
    "cv2.imshow('result',img)\n",
    "\n",
    "cv2.waitKey(0)"
   ]
  }
 ],
 "metadata": {
  "kernelspec": {
   "display_name": "Python 3 (ipykernel)",
   "language": "python",
   "name": "python3"
  },
  "language_info": {
   "codemirror_mode": {
    "name": "ipython",
    "version": 3
   },
   "file_extension": ".py",
   "mimetype": "text/x-python",
   "name": "python",
   "nbconvert_exporter": "python",
   "pygments_lexer": "ipython3",
   "version": "3.9.7"
  }
 },
 "nbformat": 4,
 "nbformat_minor": 5
}
